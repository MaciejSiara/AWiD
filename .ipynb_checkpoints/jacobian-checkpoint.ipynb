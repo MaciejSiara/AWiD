{
 "cells": [
  {
   "cell_type": "markdown",
   "id": "172ba16b",
   "metadata": {},
   "source": [
    "Funkcja definiująca macierz jednostokową o rozmiarze n"
   ]
  },
  {
   "cell_type": "code",
   "execution_count": 1,
   "id": "c6d0d897",
   "metadata": {},
   "outputs": [
    {
     "data": {
      "text/plain": [
       "eye (generic function with 1 method)"
      ]
     },
     "execution_count": 1,
     "metadata": {},
     "output_type": "execute_result"
    }
   ],
   "source": [
    "function eye(n)\n",
    "    return Matrix{Float64}(I,n,n)\n",
    "end"
   ]
  },
  {
   "cell_type": "markdown",
   "id": "82bdd78b",
   "metadata": {},
   "source": [
    "Funkcja zwracająca indeksy (wspólrzędne indeksowe) maksymalnych co do modułu elementów ponad diagonalnych."
   ]
  },
  {
   "cell_type": "code",
   "execution_count": 2,
   "id": "02ffca45",
   "metadata": {},
   "outputs": [
    {
     "data": {
      "text/plain": [
       "maxst (generic function with 1 method)"
      ]
     },
     "execution_count": 2,
     "metadata": {},
     "output_type": "execute_result"
    }
   ],
   "source": [
    "function maxst(A)\n",
    "    s = 1;\n",
    "    t = 2;\n",
    "    n = size(A,1);\n",
    "    \n",
    "    for c = 2:n\n",
    "        for r = 1:c-1\n",
    "            if abs(A[r,c]) > abs(A[s,t])\n",
    "                s = r;\n",
    "                t = c;\n",
    "            end\n",
    "        end\n",
    "    end\n",
    "    return s,t\n",
    "end"
   ]
  },
  {
   "cell_type": "markdown",
   "id": "3590d3d0",
   "metadata": {},
   "source": [
    "Funckja sprawdzajaca czy wszystkie elementy pozadiagonalne są równe 0 (mniejsze niz 1e-10)"
   ]
  },
  {
   "cell_type": "code",
   "execution_count": 3,
   "id": "52d97aba",
   "metadata": {},
   "outputs": [
    {
     "data": {
      "text/plain": [
       "isNonDiagZeros (generic function with 1 method)"
      ]
     },
     "execution_count": 3,
     "metadata": {},
     "output_type": "execute_result"
    }
   ],
   "source": [
    "function isNonDiagZeros(A::Matrix)::Bool\n",
    "    n = size(A,1);\n",
    "    isZero = true;\n",
    "    for i = 1:n\n",
    "        !isZero && break;\n",
    "        for j = 1:n\n",
    "            if i != j && abs(A[i,j]) > 1e-10\n",
    "                isZero = false;\n",
    "                break;\n",
    "            end\n",
    "        end\n",
    "    end\n",
    "    return isZero\n",
    "end\n"
   ]
  },
  {
   "cell_type": "code",
   "execution_count": null,
   "id": "4be6bab9",
   "metadata": {},
   "outputs": [],
   "source": []
  },
  {
   "cell_type": "code",
   "execution_count": 4,
   "id": "ae5ead61",
   "metadata": {},
   "outputs": [
    {
     "data": {
      "text/plain": [
       "jacobi_eigen (generic function with 1 method)"
      ]
     },
     "execution_count": 4,
     "metadata": {},
     "output_type": "execute_result"
    }
   ],
   "source": [
    "function jacobi_eigen(A)\n",
    "    n = size(A,1);  \n",
    "    Q = eye(n);\n",
    "    \n",
    "    while true\n",
    "        # znajdujemy index s,t najwiekszej wartości nad diagonalą\n",
    "        s,t = maxst(A);\n",
    "        d = sqrt((A[s,s] - A[t,t])^2 + 4*A[s,t]^2);\n",
    "        sin2t = 2*A[s,t]/d;\n",
    "        cos2t = (A[s,s] - A[t,t]) / d;\n",
    "        dt = sqrt(2*(1+cos2t));\n",
    "        sint = abs(sin2t) / dt;\n",
    "        cost = sign(A[s,t]) * abs((1+ cos2t) / dt);\n",
    "        \n",
    "        R = eye(n);\n",
    "        R[s,s] = cost;\n",
    "        R[t,t] = cost;\n",
    "        R[s,t] = -sint;\n",
    "        R[t,s] = sint;\n",
    "        A = R'*A*R;\n",
    "        \n",
    "        Q = Q*R;\n",
    "        \n",
    "#         display(R)\n",
    "        \n",
    "        #sprawdzamy zbierzność\n",
    "        if isNonDiagZeros(A)\n",
    "           break; \n",
    "        end\n",
    "    end\n",
    "    \n",
    "    # obcinamy prawie zera, żeby było lepiej widać\n",
    "    A[abs.(A) .< 1e-10] .= 0.0;\n",
    "    # bierzemy tylko elementy poza diagonalne i odwracamy\n",
    "    jacobi_eigen_v = reverse(A[A .!= 0]);\n",
    "    \n",
    "    display(rot180(Q))\n",
    "    return jacobi_eigen_v\n",
    "end"
   ]
  },
  {
   "cell_type": "code",
   "execution_count": 5,
   "id": "11e25e36",
   "metadata": {},
   "outputs": [
    {
     "data": {
      "text/plain": [
       "4×4 Matrix{Float64}:\n",
       "  0.726901    -0.058921   -0.0187406    -0.683953\n",
       "  0.00796229   0.582556   -0.812518     -0.0194603\n",
       " -0.685874    -0.0159906  -0.000760996  -0.727544\n",
       "  0.033589     0.810494    0.582634     -0.0500884"
      ]
     },
     "metadata": {},
     "output_type": "display_data"
    },
    {
     "name": "stdout",
     "output_type": "stream",
     "text": [
      "Wartości własne z jacobi_eigen: "
     ]
    },
    {
     "data": {
      "text/plain": [
       "4×4 Matrix{Float64}:\n",
       "  0.726901    -0.058921   -0.0187406    -0.683953\n",
       "  0.00796229   0.582556   -0.812518     -0.0194603\n",
       " -0.685874    -0.0159906  -0.000760996  -0.727544\n",
       "  0.033589     0.810494    0.582634     -0.0500884"
      ]
     },
     "metadata": {},
     "output_type": "display_data"
    },
    {
     "name": "stdout",
     "output_type": "stream",
     "text": [
      "[-90.29875173791679, 7.49632641100462, 20.327366093563793, 110.47505923335348]\n",
      "Wartośći własne z eigen: [-90.2987517379167, 7.496326411004787, 20.32736609356303, 110.47505923334917]\n",
      "  0.002420 seconds (1.27 k allocations: 108.422 KiB)\n",
      "  0.000076 seconds (11 allocations: 2.578 KiB)\n"
     ]
    },
    {
     "data": {
      "text/plain": [
       "Eigen{Float64, Float64, Matrix{Float64}, Vector{Float64}}\n",
       "values:\n",
       "4-element Vector{Float64}:\n",
       " -90.2987517379167\n",
       "   7.496326411004787\n",
       "  20.32736609356303\n",
       " 110.47505923334917\n",
       "vectors:\n",
       "4×4 Matrix{Float64}:\n",
       "  0.033589     0.810494    0.582634     -0.0500884\n",
       " -0.685874    -0.0159906  -0.000760996  -0.727544\n",
       "  0.00796229   0.582556   -0.812518     -0.0194603\n",
       "  0.726901    -0.058921   -0.0187406    -0.683953"
      ]
     },
     "execution_count": 5,
     "metadata": {},
     "output_type": "execute_result"
    }
   ],
   "source": [
    "using LinearAlgebra\n",
    "\n",
    "A = [12 6 -6 1\n",
    "    6 16 2 100\n",
    "    -6 2 16 1\n",
    "    1 100 1 4];\n",
    "\n",
    "jacobi_eigen_vals= jacobi_eigen(A);\n",
    "e,v = eigen(A);\n",
    "\n",
    "# display(A\\jacobi_eigen_vals)\n",
    "\n",
    "println(\"Wartości własne z jacobi_eigen: \", jacobi_eigen_vals)\n",
    "println(\"Wartośći własne z eigen: \", e)\n",
    "\n",
    "@time jacobi_eigen(A)\n",
    "@time eigen(A)"
   ]
  },
  {
   "cell_type": "code",
   "execution_count": null,
   "id": "d48ab959",
   "metadata": {},
   "outputs": [],
   "source": []
  },
  {
   "cell_type": "code",
   "execution_count": null,
   "id": "e5c90979",
   "metadata": {},
   "outputs": [],
   "source": []
  },
  {
   "cell_type": "code",
   "execution_count": null,
   "id": "49131707",
   "metadata": {},
   "outputs": [],
   "source": []
  },
  {
   "cell_type": "code",
   "execution_count": null,
   "id": "2fd63d2e",
   "metadata": {},
   "outputs": [],
   "source": []
  }
 ],
 "metadata": {
  "kernelspec": {
   "display_name": "Julia 1.6.0",
   "language": "julia",
   "name": "julia-1.6"
  },
  "language_info": {
   "file_extension": ".jl",
   "mimetype": "application/julia",
   "name": "julia",
   "version": "1.6.0"
  }
 },
 "nbformat": 4,
 "nbformat_minor": 5
}
