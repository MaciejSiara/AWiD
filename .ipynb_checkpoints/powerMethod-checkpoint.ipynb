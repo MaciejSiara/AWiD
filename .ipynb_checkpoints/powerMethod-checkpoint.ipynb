{
 "cells": [
  {
   "cell_type": "code",
   "execution_count": 36,
   "id": "3929bcf5",
   "metadata": {},
   "outputs": [
    {
     "data": {
      "text/plain": [
       "eye (generic function with 1 method)"
      ]
     },
     "execution_count": 36,
     "metadata": {},
     "output_type": "execute_result"
    }
   ],
   "source": [
    "function eye(n::Int)::Matrix{Float64}\n",
    "    return Matrix{Float64}(I,n,n)\n",
    "end"
   ]
  },
  {
   "cell_type": "code",
   "execution_count": 37,
   "id": "4883bef2",
   "metadata": {},
   "outputs": [
    {
     "data": {
      "text/plain": [
       "3×3 Matrix{Int64}:\n",
       " 1  4  1\n",
       " 4  3  2\n",
       " 1  2  5"
      ]
     },
     "execution_count": 37,
     "metadata": {},
     "output_type": "execute_result"
    }
   ],
   "source": [
    "using LinearAlgebra\n",
    "A = [1 4 1;\n",
    "     4 3 2;\n",
    "     1 2 5]"
   ]
  },
  {
   "cell_type": "code",
   "execution_count": 38,
   "id": "1dd2f020",
   "metadata": {},
   "outputs": [
    {
     "data": {
      "text/plain": [
       "Eigen{Float64, Float64, Matrix{Float64}, Vector{Float64}}\n",
       "values:\n",
       "3-element Vector{Float64}:\n",
       " -2.1529137088817887\n",
       "  3.321327095067036\n",
       "  7.831586613814752\n",
       "vectors:\n",
       "3×3 Matrix{Float64}:\n",
       "  0.77535   -0.428782  -0.463658\n",
       " -0.627948  -0.445339  -0.638243\n",
       "  0.067182   0.786014  -0.614547"
      ]
     },
     "execution_count": 38,
     "metadata": {},
     "output_type": "execute_result"
    }
   ],
   "source": [
    "eigen(A)"
   ]
  },
  {
   "cell_type": "code",
   "execution_count": 39,
   "id": "68aa33c7",
   "metadata": {},
   "outputs": [
    {
     "data": {
      "text/plain": [
       "power_max_eigen (generic function with 2 methods)"
      ]
     },
     "execution_count": 39,
     "metadata": {},
     "output_type": "execute_result"
    }
   ],
   "source": [
    "# obliczanie równan wysokiego rzedu, wyznaczanie współczynnika uwarunkowania macierzy (jak niewielka zmiana macierzy A zmienia wynik Ax=b),\n",
    "# poszukiwanie promienia spektralnego - największa wartość wlasna macierzy co do modułu\n",
    "\n",
    "function calculate_eigen_value(x::Vector, A::Matrix)\n",
    "    return x'*A*x\n",
    "end\n",
    "\n",
    "function power_max_eigen(A::Matrix, acc=1e-10::Float64)::Vector\n",
    "    n = size(A, 1)\n",
    "    x = [1:n;];\n",
    "    max_eigen_value = 1.0;\n",
    "    \n",
    "    while true\n",
    "        prev_max_val = calculate_eigen_value(x, A);\n",
    "        y = A*x;\n",
    "        x = y/norm(y);\n",
    "        max_eigen_value = calculate_eigen_value(x, A) #uproszczony wzor bez mianownika poniewaz dlugosc wetkora x jest = 1 ze wzgledu na wprowadzoną nrmalizację w pętli\n",
    "\n",
    "        curr_acc = abs(max_eigen_value/prev_max_val);\n",
    "        if curr_acc < acc+1 && curr_acc > 1\n",
    "            break\n",
    "        end\n",
    "    end\n",
    "    \n",
    "    return [max_eigen_value, x]\n",
    "end\n"
   ]
  },
  {
   "cell_type": "code",
   "execution_count": 52,
   "id": "bef97be0",
   "metadata": {},
   "outputs": [
    {
     "data": {
      "text/plain": [
       "-2.152913708881789"
      ]
     },
     "execution_count": 52,
     "metadata": {},
     "output_type": "execute_result"
    }
   ],
   "source": [
    "eigen_julia = eigmax(A);\n",
    "eigen_custom, x = power_max_eigen(A);\n",
    "\n",
    "println(\"Custom max eigen:\")\n",
    "println(eigen_custom)\n",
    "println(\"\\n\")\n",
    "println(\"Julia max eigen:\")\n",
    "println(eigen_julia)"
   ]
  },
  {
   "cell_type": "code",
   "execution_count": 40,
   "id": "55267ae2",
   "metadata": {},
   "outputs": [
    {
     "data": {
      "text/plain": [
       "3-element Vector{Float64}:\n",
       " 0.46365587190028185\n",
       " 0.6382407630306943\n",
       " 0.6145502102012385"
      ]
     },
     "metadata": {},
     "output_type": "display_data"
    },
    {
     "data": {
      "text/plain": [
       "7.831586613736695"
      ]
     },
     "metadata": {},
     "output_type": "display_data"
    },
    {
     "data": {
      "text/plain": [
       "3-element Vector{Float64}:\n",
       " -0.42878257244942775\n",
       " -0.4453490568340997\n",
       "  0.7860087296847467"
      ]
     },
     "metadata": {},
     "output_type": "display_data"
    },
    {
     "data": {
      "text/plain": [
       "3.321327095098886"
      ]
     },
     "metadata": {},
     "output_type": "display_data"
    },
    {
     "data": {
      "text/plain": [
       "3-element Vector{Float64}:\n",
       " -0.7753464274567067\n",
       "  0.6279519421093321\n",
       " -0.06718836083161735"
      ]
     },
     "metadata": {},
     "output_type": "display_data"
    },
    {
     "data": {
      "text/plain": [
       "-2.1529137091165995"
      ]
     },
     "metadata": {},
     "output_type": "display_data"
    }
   ],
   "source": [
    "# deflacja\n",
    "max_eigen, x = power_max_eigen(A);\n",
    "display(x)\n",
    "display(max_eigen)\n",
    "\n",
    "An = A - max_eigen*x*x';\n",
    "sec_max_eigen, x = power_max_eigen(An)\n",
    "display(x)\n",
    "display(sec_max_eigen)\n",
    "\n",
    "Ann = An - sec_max_eigen*x*x';\n",
    "third_max_eigen, x = power_max_eigen(Ann)\n",
    "display(x)\n",
    "display(third_max_eigen)\n"
   ]
  },
  {
   "cell_type": "code",
   "execution_count": 41,
   "id": "1e5b9557",
   "metadata": {},
   "outputs": [
    {
     "data": {
      "text/plain": [
       "power_min_eigen (generic function with 2 methods)"
      ]
     },
     "execution_count": 41,
     "metadata": {},
     "output_type": "execute_result"
    }
   ],
   "source": [
    "function power_min_eigen(A::Matrix, acc=1e-10::Float64)::Vector\n",
    "    n = size(A, 1)\n",
    "    x = [1:n;];\n",
    "    min_eigen_value = 1.0;\n",
    "    \n",
    "    while true\n",
    "        prev_min_val = calculate_eigen_value(x, A);\n",
    "        y = A\\x;\n",
    "        x = y/norm(y);\n",
    "        min_eigen_value = calculate_eigen_value(x, A) #uproszczony wzor bez mianownika poniewaz dlugosc wetkora x jest = 1 ze wzgledu na wprowadzoną nrmalizację w pętli\n",
    "\n",
    "        curr_acc = abs(min_eigen_value/prev_min_val);\n",
    "        if curr_acc <= acc+1 && curr_acc >= 1\n",
    "            break\n",
    "        end\n",
    "    end\n",
    "    \n",
    "    return [min_eigen_value, x]\n",
    "end"
   ]
  },
  {
   "cell_type": "code",
   "execution_count": 54,
   "id": "e2703a5a",
   "metadata": {},
   "outputs": [
    {
     "name": "stdout",
     "output_type": "stream",
     "text": [
      "Custom min eigen:\n",
      "-2.1529137088142187\n",
      "\n",
      "\n",
      "Julia min eigen:\n",
      "-2.152913708881789\n"
     ]
    }
   ],
   "source": [
    "min_eigen, x = power_min_eigen(A);\n",
    "eigen_julia = eigmin(A);\n",
    "\n",
    "println(\"Custom min eigen:\")\n",
    "println(min_eigen)\n",
    "println(\"\\n\")\n",
    "println(\"Julia min eigen:\")\n",
    "println(eigen_julia)"
   ]
  },
  {
   "cell_type": "code",
   "execution_count": 45,
   "id": "488b817e",
   "metadata": {},
   "outputs": [
    {
     "name": "stdout",
     "output_type": "stream",
     "text": [
      "Custom cond:\n",
      "3.637668600207373\n",
      "\n",
      "\n",
      "Julia cond:\n",
      "3.637668607666786\n"
     ]
    }
   ],
   "source": [
    "# współczynnik uwarunkowania macierzy:\n",
    "function get_cond(A::Matrix)::Float64\n",
    "    n = size(A, 1)\n",
    "    A_A = A'*A;\n",
    "    max_eigen, x = power_max_eigen(A_A);\n",
    "    A_A_min = A_A - max_eigen*eye(n);\n",
    "    min_eigen_dash, x = power_max_eigen(A_A_min);\n",
    "    min_eigen = min_eigen_dash + max_eigen;\n",
    "    cond_mx = sqrt(max_eigen/min_eigen)\n",
    "    return cond_mx\n",
    "end\n",
    "\n",
    "cond_custom = get_cond(A)\n",
    "\n",
    "const_julia = cond(A)\n",
    "\n",
    "println(\"Custom cond:\")\n",
    "println(cond_custom)\n",
    "println(\"\\n\")\n",
    "println(\"Julia cond:\")\n",
    "println(const_julia)\n"
   ]
  }
 ],
 "metadata": {
  "kernelspec": {
   "display_name": "Julia 1.6.0",
   "language": "julia",
   "name": "julia-1.6"
  },
  "language_info": {
   "file_extension": ".jl",
   "mimetype": "application/julia",
   "name": "julia",
   "version": "1.6.0"
  }
 },
 "nbformat": 4,
 "nbformat_minor": 5
}
