{
 "cells": [
  {
   "cell_type": "code",
   "execution_count": 32,
   "id": "fb17e217",
   "metadata": {},
   "outputs": [
    {
     "data": {
      "text/plain": [
       "3×3 Matrix{Float64}:\n",
       "  1.5   2.0  -4.0\n",
       "  2.0  -1.0  -3.0\n",
       " -4.0  -3.0   5.0"
      ]
     },
     "execution_count": 32,
     "metadata": {},
     "output_type": "execute_result"
    }
   ],
   "source": [
    "B = [1.5 2 -4; 2 -1 -3; -4 -3 5]"
   ]
  },
  {
   "cell_type": "code",
   "execution_count": 11,
   "id": "8b2fffc8",
   "metadata": {},
   "outputs": [
    {
     "data": {
      "text/plain": [
       "Eigen{Float64, Float64, Matrix{Float64}, Vector{Float64}}\n",
       "values:\n",
       "3-element Vector{Float64}:\n",
       " -2.310376890836094\n",
       " -1.1153277149900285\n",
       "  8.925704605826107\n",
       "vectors:\n",
       "3×3 Matrix{Float64}:\n",
       "  0.207716  -0.831417   -0.515363\n",
       " -0.939628  -0.0231196  -0.341417\n",
       " -0.271945  -0.555167    0.786025"
      ]
     },
     "execution_count": 11,
     "metadata": {},
     "output_type": "execute_result"
    }
   ],
   "source": [
    "eigen(B)"
   ]
  },
  {
   "cell_type": "code",
   "execution_count": 126,
   "id": "d1d88365",
   "metadata": {},
   "outputs": [
    {
     "name": "stdout",
     "output_type": "stream",
     "text": [
      "0.6187095056359277-"
     ]
    },
    {
     "ename": "LoadError",
     "evalue": "UndefVarError: printf not defined",
     "output_type": "error",
     "traceback": [
      "UndefVarError: printf not defined",
      "",
      "Stacktrace:",
      " [1] power_eigen(A::Matrix{Float64}, acc::Float64)",
      "   @ Main ./In[126]:20",
      " [2] power_eigen(A::Matrix{Float64})",
      "   @ Main ./In[126]:5",
      " [3] top-level scope",
      "   @ In[126]:28",
      " [4] eval",
      "   @ ./boot.jl:360 [inlined]",
      " [5] include_string(mapexpr::typeof(REPL.softscope), mod::Module, code::String, filename::String)",
      "   @ Base ./loading.jl:1094"
     ]
    }
   ],
   "source": [
    "# obliczanie równan wysokiego rzedu, wyznaczanie uwarunkowania macierzy,\n",
    "# poszukiwanie promienia spektralnego - największa wartość wlasna macierzy co do modułu\n",
    "using Printf\n",
    "function power_eigen(A::Matrix, acc=1e-100)::Vector{Float64}\n",
    "n = size(A, 1)\n",
    "x = [1:n;];\n",
    "max_eigen_value = 1.0;\n",
    "min_eigen_value = 1.0;\n",
    "promien_spektr = 1.0;\n",
    "    \n",
    "for i = 1:10\n",
    "    prev_max_val = x'*B*x;\n",
    "    y = A*x;\n",
    "    promien_spektr = norm(y);\n",
    "    x = y/promien_spektr;\n",
    "    max_eigen_value = x'*B*x #uproszczony wzor bez mianownika poniewaz dlugosc wetkora x jest = 1 ze wzgledu na wprowadzaona nrmalizacje w pętli for\n",
    "    \n",
    "        print(abs(max_eigen_value/prev_max_val) )\n",
    "        print(\"-\")\n",
    "        printf(\"asdasd\")\n",
    "        if abs(max_eigen_value/prev_max_val) < acc\n",
    "            break\n",
    "        end\n",
    "end   \n",
    "    return [max_eigen_value, min_eigen_value, promien_spektr]\n",
    "end\n",
    "\n",
    "a,b = power_eigen(B)\n",
    "\n",
    "\n"
   ]
  },
  {
   "cell_type": "code",
   "execution_count": 98,
   "id": "bdeaf3a8",
   "metadata": {},
   "outputs": [
    {
     "data": {
      "text/plain": [
       "2-element Vector{Matrix{Float64}}:\n",
       " [1.0]\n",
       " [1.0]"
      ]
     },
     "execution_count": 98,
     "metadata": {},
     "output_type": "execute_result"
    }
   ],
   "source": [
    "function eigen_vectors(A::Matrix)\n",
    "    n = size(a, 1);\n",
    "    max_vector = ones(n, 1);\n",
    "    min_vector = ones(n, 1);\n",
    "    x1 = ones(n, 1);\n",
    "    x2 = ones(n, 1);\n",
    "    \n",
    "    for i = 1:100\n",
    "        x1 = max_vector;\n",
    "        y = a * max_vector;\n",
    "        max_vector = y/norm(y);\n",
    "    end\n",
    "    for i = 1:100\n",
    "        x2 = min_vector;\n",
    "        y = a \\ min_vector;\n",
    "        min_vector = y/norm(y);\n",
    "    end\n",
    "    return [max_vector, min_vector]\n",
    "end\n",
    "\n",
    "eigen_vectors(B)"
   ]
  },
  {
   "cell_type": "code",
   "execution_count": null,
   "id": "4f2cfd59",
   "metadata": {},
   "outputs": [],
   "source": []
  },
  {
   "cell_type": "code",
   "execution_count": null,
   "id": "afed60c4",
   "metadata": {},
   "outputs": [],
   "source": []
  }
 ],
 "metadata": {
  "kernelspec": {
   "display_name": "Julia 1.6.0",
   "language": "julia",
   "name": "julia-1.6"
  },
  "language_info": {
   "file_extension": ".jl",
   "mimetype": "application/julia",
   "name": "julia",
   "version": "1.6.0"
  }
 },
 "nbformat": 4,
 "nbformat_minor": 5
}
