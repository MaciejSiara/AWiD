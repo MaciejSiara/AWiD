{
 "cells": [
  {
   "cell_type": "code",
   "execution_count": 34,
   "id": "3929bcf5",
   "metadata": {},
   "outputs": [
    {
     "data": {
      "text/plain": [
       "3×3 Matrix{Int64}:\n",
       " 1  4  1\n",
       " 4  3  2\n",
       " 1  2  5"
      ]
     },
     "execution_count": 34,
     "metadata": {},
     "output_type": "execute_result"
    }
   ],
   "source": [
    "using LinearAlgebra\n",
    "A = [1 4 1;\n",
    "     4 3 2;\n",
    "     1 2 5]"
   ]
  },
  {
   "cell_type": "code",
   "execution_count": 35,
   "id": "1dd2f020",
   "metadata": {},
   "outputs": [
    {
     "data": {
      "text/plain": [
       "Eigen{Float64, Float64, Matrix{Float64}, Vector{Float64}}\n",
       "values:\n",
       "3-element Vector{Float64}:\n",
       " -2.1529137088817887\n",
       "  3.321327095067036\n",
       "  7.831586613814752\n",
       "vectors:\n",
       "3×3 Matrix{Float64}:\n",
       "  0.77535   -0.428782  -0.463658\n",
       " -0.627948  -0.445339  -0.638243\n",
       "  0.067182   0.786014  -0.614547"
      ]
     },
     "execution_count": 35,
     "metadata": {},
     "output_type": "execute_result"
    }
   ],
   "source": [
    "eigen(A)"
   ]
  },
  {
   "cell_type": "code",
   "execution_count": 36,
   "id": "68aa33c7",
   "metadata": {},
   "outputs": [
    {
     "data": {
      "text/plain": [
       "power_max_eigen (generic function with 2 methods)"
      ]
     },
     "execution_count": 36,
     "metadata": {},
     "output_type": "execute_result"
    }
   ],
   "source": [
    "function calculate_max_eigen_value(x::Vector, A::Matrix)\n",
    "    return x'*A*x\n",
    "end\n",
    "\n",
    "function power_max_eigen(A::Matrix, acc=1e-10::Float64)::Vector\n",
    "    n = size(A, 1)\n",
    "    x = [1:n;];\n",
    "    max_eigen_value = 1.0;\n",
    "    \n",
    "    while true\n",
    "        prev_max_val = calculate_max_eigen_value(x, A);\n",
    "        y = A*x;\n",
    "        x = y/norm(y);\n",
    "        max_eigen_value = calculate_max_eigen_value(x, A) #uproszczony wzor bez mianownika poniewaz dlugosc wetkora x jest = 1 ze wzgledu na wprowadzoną nrmalizację w pętli\n",
    "\n",
    "        curr_acc = abs(max_eigen_value/prev_max_val);\n",
    "        if curr_acc < acc+1 && curr_acc > 1\n",
    "            break\n",
    "        end\n",
    "    end\n",
    "    \n",
    "    return [max_eigen_value, x]\n",
    "end\n"
   ]
  },
  {
   "cell_type": "code",
   "execution_count": 43,
   "id": "55267ae2",
   "metadata": {},
   "outputs": [
    {
     "name": "stdout",
     "output_type": "stream",
     "text": [
      "[0.46365587190028185, 0.6382407630306943, 0.6145502102012385]\n",
      "7.831586613736695\n",
      "[-0.42878257244942775, -0.4453490568340997, 0.7860087296847467]\n",
      "3.321327095098886\n",
      "[-0.7753464274567067, 0.6279519421093321, -0.06718836083161735]\n",
      "-2.1529137091165995\n"
     ]
    }
   ],
   "source": [
    "# deflacja\n",
    "max_eigen, x = power_max_eigen(A);\n",
    "println(x)\n",
    "println(max_eigen)\n",
    "\n",
    "An = A - max_eigen*x*x';\n",
    "sec_max_eigen, x = power_max_eigen(An)\n",
    "println(x)\n",
    "println(sec_max_eigen)\n",
    "\n",
    "Ann = An - sec_max_eigen*x*x';\n",
    "third_max_eigen, x = power_max_eigen(Ann)\n",
    "println(x)\n",
    "println(third_max_eigen)\n"
   ]
  },
  {
   "cell_type": "code",
   "execution_count": null,
   "id": "1e5b9557",
   "metadata": {},
   "outputs": [],
   "source": []
  },
  {
   "cell_type": "code",
   "execution_count": 6,
   "id": "0c565f8c",
   "metadata": {},
   "outputs": [],
   "source": [
    "# obliczanie równan wysokiego rzedu, wyznaczanie współczynnika uwarunkowania macierzy (jak niewielka zmiana macierzy A zmienia wynik Ax=b),\n",
    "# poszukiwanie promienia spektralnego - największa wartość wlasna macierzy co do modułu\n",
    "\n",
    "function power_eigen(A::Matrix, acc=1e-10::Float64)::Vector\n",
    "n = size(A, 1)\n",
    "x = [1:n;];\n",
    "max_eigen_value = 1.0;\n",
    "min_eigen_value = 1.0;\n",
    "promien_spektr = 1.0;\n",
    "    \n",
    "    while true\n",
    "        prev_max_val = calculate_max_eigen_value(x, A);\n",
    "        y = A*x;\n",
    "        promien_spektr = norm(y);\n",
    "        x = y/promien_spektr;\n",
    "        max_eigen_value = calculate_max_eigen_value(x, A) #uproszczony wzor bez mianownika poniewaz dlugosc wetkora x jest = 1 ze wzgledu na wprowadzoną nrmalizację w pętli\n",
    "\n",
    "        curr_acc = abs(max_eigen_value/prev_max_val);\n",
    "        if curr_acc < acc+1 && curr_acc > 1\n",
    "            break\n",
    "        end\n",
    "    end   \n",
    "    \n",
    "    return [max_eigen_value, min_eigen_value, promien_spektr]\n",
    "end\n",
    "\n",
    "max_val,min_val, promien = power_eigen(B);"
   ]
  },
  {
   "cell_type": "code",
   "execution_count": null,
   "id": "938e3fa6",
   "metadata": {},
   "outputs": [],
   "source": []
  }
 ],
 "metadata": {
  "kernelspec": {
   "display_name": "Julia 1.6.0",
   "language": "julia",
   "name": "julia-1.6"
  },
  "language_info": {
   "file_extension": ".jl",
   "mimetype": "application/julia",
   "name": "julia",
   "version": "1.6.0"
  }
 },
 "nbformat": 4,
 "nbformat_minor": 5
}
