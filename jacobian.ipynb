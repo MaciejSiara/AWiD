{
 "cells": [
  {
   "cell_type": "markdown",
   "id": "674aa536",
   "metadata": {},
   "source": [
    "Funkcja definiująca macierz jednostokową o rozmiarze n"
   ]
  },
  {
   "cell_type": "code",
   "execution_count": 1,
   "id": "c6d0d897",
   "metadata": {},
   "outputs": [
    {
     "data": {
      "text/plain": [
       "eye (generic function with 1 method)"
      ]
     },
     "execution_count": 1,
     "metadata": {},
     "output_type": "execute_result"
    }
   ],
   "source": [
    "function eye(n)\n",
    "    return Matrix{Float64}(I,n,n)\n",
    "end"
   ]
  },
  {
   "cell_type": "markdown",
   "id": "f0b39e51",
   "metadata": {},
   "source": [
    "Funkcja zwracająca indeksy (wspólrzędne indeksowe) maksymalnych co do modułu elementów ponad diagonalnych."
   ]
  },
  {
   "cell_type": "code",
   "execution_count": 2,
   "id": "2c7381ca",
   "metadata": {},
   "outputs": [
    {
     "data": {
      "text/plain": [
       "maxst (generic function with 1 method)"
      ]
     },
     "execution_count": 2,
     "metadata": {},
     "output_type": "execute_result"
    }
   ],
   "source": [
    "function maxst(A)\n",
    "    s = 1;\n",
    "    t = 2;\n",
    "    n = size(A,1);\n",
    "    \n",
    "    for c = 2:n\n",
    "        for r = 1:c-1\n",
    "            if abs(A[r,c]) > abs(A[s,t])\n",
    "                s = r;\n",
    "                t = c;\n",
    "            end\n",
    "        end\n",
    "    end\n",
    "    return s,t\n",
    "end"
   ]
  },
  {
   "cell_type": "markdown",
   "id": "9e05dafd",
   "metadata": {},
   "source": [
    "Funckja sprawdzajaca czy wszystkie elementy pozadiagonalne są równe 0 (mniejsze niz 1e-10)"
   ]
  },
  {
   "cell_type": "code",
   "execution_count": 3,
   "id": "7aa019b2",
   "metadata": {},
   "outputs": [
    {
     "data": {
      "text/plain": [
       "isNonDiagZeros (generic function with 1 method)"
      ]
     },
     "execution_count": 3,
     "metadata": {},
     "output_type": "execute_result"
    }
   ],
   "source": [
    "function isNonDiagZeros(A::Matrix)::Bool\n",
    "    n = size(A,1);\n",
    "    isZero = true;\n",
    "    for i = 1:n\n",
    "        !isZero && break;\n",
    "        for j = 1:n\n",
    "            if i != j && abs(A[i,j]) > 1e-10\n",
    "                isZero = false;\n",
    "                break;\n",
    "            end\n",
    "        end\n",
    "    end\n",
    "    return isZero\n",
    "end\n"
   ]
  },
  {
   "cell_type": "code",
   "execution_count": 4,
   "id": "3d2d29a8",
   "metadata": {},
   "outputs": [
    {
     "data": {
      "text/plain": [
       "reverseMatrix (generic function with 1 method)"
      ]
     },
     "execution_count": 4,
     "metadata": {},
     "output_type": "execute_result"
    }
   ],
   "source": [
    "function reverseMatrix(A::Matrix)\n",
    "    n = size(A,1);\n",
    "    B=eye(n);\n",
    "    for i = 1:n\n",
    "        for j = 1:n\n",
    "            B[i,n-j+1] = A[i,j]\n",
    "        end\n",
    "    end\n",
    "    return B\n",
    "end\n"
   ]
  },
  {
   "cell_type": "code",
   "execution_count": 5,
   "id": "b3469ae6",
   "metadata": {},
   "outputs": [
    {
     "data": {
      "text/plain": [
       "jacobi_eigen (generic function with 1 method)"
      ]
     },
     "execution_count": 5,
     "metadata": {},
     "output_type": "execute_result"
    }
   ],
   "source": [
    "function jacobi_eigen(A)\n",
    "    n = size(A,1);  \n",
    "    Q = eye(n);\n",
    "    \n",
    "    while true\n",
    "        # znajdujemy index s,t najwiekszej wartości nad diagonalą\n",
    "        s,t = maxst(A);\n",
    "        d = sqrt((A[s,s] - A[t,t])^2 + 4*A[s,t]^2);\n",
    "        sin2t = 2*A[s,t]/d;\n",
    "        cos2t = (A[s,s] - A[t,t]) / d;\n",
    "        dt = sqrt(2*(1+cos2t));\n",
    "        sint = abs(sin2t) / dt;\n",
    "        cost = sign(A[s,t]) * abs((1+ cos2t) / dt);\n",
    "        \n",
    "        R = eye(n);\n",
    "        R[s,s] = cost;\n",
    "        R[t,t] = cost;\n",
    "        R[s,t] = -sint;\n",
    "        R[t,s] = sint;\n",
    "        A = R'*A*R;\n",
    "        \n",
    "        Q = Q*R;\n",
    "        \n",
    "        \n",
    "        #sprawdzamy zbierzność\n",
    "        if isNonDiagZeros(A)\n",
    "           break; \n",
    "        end\n",
    "    end\n",
    "    \n",
    "    # obcinamy prawie zera, żeby było lepiej widać\n",
    "    A[abs.(A) .< 1e-10] .= 0.0;\n",
    "    # bierzemy tylko elementy poza diagonalne i odwracamy\n",
    "    jacobi_eigen_v = reverse(A[A .!= 0]);\n",
    "    \n",
    "    return jacobi_eigen_v, reverseMatrix(Q)\n",
    "end"
   ]
  },
  {
   "cell_type": "code",
   "execution_count": 6,
   "id": "cdc79ad3",
   "metadata": {},
   "outputs": [
    {
     "name": "stdout",
     "output_type": "stream",
     "text": [
      "Wartości własne z jacobi_eigen: "
     ]
    },
    {
     "data": {
      "text/plain": [
       "4×4 Matrix{Float64}:\n",
       "  0.033589     0.810494    0.582634     -0.0500884\n",
       " -0.685874    -0.0159906  -0.000760996  -0.727544\n",
       "  0.00796229   0.582556   -0.812518     -0.0194603\n",
       "  0.726901    -0.058921   -0.0187406    -0.683953"
      ]
     },
     "metadata": {},
     "output_type": "display_data"
    },
    {
     "name": "stdout",
     "output_type": "stream",
     "text": [
      "[-90.29875173791679, 7.49632641100462, 20.327366093563793, 110.47505923335348]\n",
      "Wartośći własne z eigen: [-90.2987517379167, 7.496326411004787, 20.32736609356303, 110.47505923334917]\n",
      "  0.000044 seconds (68 allocations: 12.562 KiB)\n",
      "  0.000053 seconds (11 allocations: 2.578 KiB)\n"
     ]
    }
   ],
   "source": [
    "using LinearAlgebra\n",
    "\n",
    "A = [12 6 -6 1\n",
    "    6 16 2 100\n",
    "    -6 2 16 1\n",
    "    1 100 1 4];\n",
    "\n",
    "jacobi_eigen_vals, jacobi_eigen_vector = jacobi_eigen(A);\n",
    "e,v = eigen(A);\n",
    "\n",
    "println(\"Wartości własne z jacobi_eigen: \", jacobi_eigen_vals)\n",
    "println(\"Wartośći własne z eigen: \", e)\n",
    "\n",
    "# println(\"Wektory własne z jacobi_eigen: \", jacobi_eigen_vector)\n",
    "# show(jacobi_eigen_vector)\n",
    "# println(\"Wektory własne z eigen: \", v)\n",
    "\n",
    "\n",
    "@time jacobi_eigen(A);\n",
    "@time eigen(A);\n",
    "display(jacobi_eigen_vector)\n"
   ]
  },
  {
   "cell_type": "markdown",
   "id": "03fc6132",
   "metadata": {},
   "source": [
    "Standaryzacja danych"
   ]
  },
  {
   "cell_type": "code",
   "execution_count": 125,
   "id": "75c54107",
   "metadata": {},
   "outputs": [
    {
     "data": {
      "text/plain": [
       "standarize_data (generic function with 1 method)"
      ]
     },
     "execution_count": 125,
     "metadata": {},
     "output_type": "execute_result"
    }
   ],
   "source": [
    "using Statistics\n",
    "\n",
    "# standarization formula\n",
    "function standarize_data(A::Matrix)::Matrix{Float64}\n",
    "    n, m = size(A);\n",
    "    X = [1:n;];\n",
    "    \n",
    "    if typeof(A)==Matrix{Int}\n",
    "        A = convert(Matrix{Float64}, A); \n",
    "    else \n",
    "        X = convert(Array{Float64}, X); \n",
    "    end\n",
    "    \n",
    "    for i=1:m\n",
    "        for j=1:n\n",
    "            X[j] = A[j,i];\n",
    "         end\n",
    "        m = real(mean(X));\n",
    "        dev = real(std(X));\n",
    "        \n",
    "        for j=1:n\n",
    "            A[j,i]=(A[j,i]-m)/dev;\n",
    "        end\n",
    "    end\n",
    "    \n",
    "    return A\n",
    "end"
   ]
  },
  {
   "cell_type": "markdown",
   "id": "3406d8e6",
   "metadata": {},
   "source": [
    "Calculate the covariance matrix for the whole dataset"
   ]
  },
  {
   "cell_type": "code",
   "execution_count": 126,
   "id": "458598eb",
   "metadata": {},
   "outputs": [
    {
     "data": {
      "text/plain": [
       "covariance (generic function with 1 method)"
      ]
     },
     "execution_count": 126,
     "metadata": {},
     "output_type": "execute_result"
    }
   ],
   "source": [
    "function calcCov(A::Matrix, w::Int64, m::Int64)\n",
    "    n = size(A, 1);\n",
    "    val = 1.0;\n",
    "\n",
    "    for i=1:n\n",
    "        val = val + (A[i, w]*A[i,m])\n",
    "    end\n",
    "    return val/(n-1)\n",
    "end\n",
    "\n",
    "function covariance(A::Matrix)\n",
    "    n, m = size(A);\n",
    "    s = n;\n",
    "    \n",
    "    if n > m\n",
    "        s = m;\n",
    "    end\n",
    "    \n",
    "    B = zeros(Float64, (s, s))\n",
    "    \n",
    "    for i=1:s\n",
    "        for j=1:s\n",
    "            B[i,j] = calcCov(A, i, j)\n",
    "        end\n",
    "    end\n",
    "    \n",
    "    return B\n",
    "end"
   ]
  },
  {
   "cell_type": "code",
   "execution_count": 168,
   "id": "725dc66f",
   "metadata": {},
   "outputs": [],
   "source": [
    "M= rand(Int, (10,10));"
   ]
  },
  {
   "cell_type": "code",
   "execution_count": 174,
   "id": "6bda037d",
   "metadata": {},
   "outputs": [
    {
     "data": {
      "text/plain": [
       "3×1 Matrix{Float64}:\n",
       "  0.6904283082973928\n",
       "  0.7079968110879636\n",
       " -0.1484899545116585"
      ]
     },
     "metadata": {},
     "output_type": "display_data"
    },
    {
     "data": {
      "text/plain": [
       "10×1 Matrix{Float64}:\n",
       "  0.38029550982366567\n",
       " -2.586772437237256\n",
       " -0.6263620779876281\n",
       "  1.8347295974697433\n",
       "  1.069524199397203\n",
       " -0.8326863880836588\n",
       " -0.9736239004723003\n",
       "  1.4696908382548344\n",
       "  0.2744858770777468\n",
       " -0.009281218242351863"
      ]
     },
     "metadata": {},
     "output_type": "display_data"
    },
    {
     "name": "stdout",
     "output_type": "stream",
     "text": [
      "  0.000014 seconds (43 allocations: 5.922 KiB)\n"
     ]
    }
   ],
   "source": [
    "# M = [1 2 3 4;\n",
    "#      5 5 6 7;\n",
    "#      1 4 2 3;\n",
    "#      5 3 2 1;\n",
    "#      8 1 2 2];\n",
    "\n",
    "M = [7 4 3;\n",
    "     4 1 8;\n",
    "     6 3 5;\n",
    "     8 6 1;\n",
    "     8 5 7;\n",
    "     7 2 9;\n",
    "     5 3 3;\n",
    "     9 5 8;\n",
    "     7 4 5;\n",
    "     8 2 2];\n",
    "\n",
    "\n",
    "function customPCA(A::Matrix, tol::Float64)\n",
    "    \n",
    "    cov_matrix = covariance(A);        \n",
    "    val, vec  = jacobi_eigen(cov_matrix);\n",
    "\n",
    "    # descending order\n",
    "    desc_val = val[end:-1:1];\n",
    "    desc_vec = vec[:,end:-1:1];\n",
    "    \n",
    "    # percentage of eigenvalues\n",
    "    weight,index=0,0\n",
    "    for i in 1:length(desc_val)\n",
    "        weight+=desc_vec[i];\n",
    "        if weight/sum(desc_vec)>=tol\n",
    "            index=i\n",
    "            break\n",
    "        end\n",
    "    end\n",
    "    \n",
    "    # Return eigenvector matrix\n",
    "    return desc_vec[:,1:index];\n",
    "end\n",
    "\n",
    "standarized_data = standarize_data(M);\n",
    "model = customPCA(standarized_data, 0.1);\n",
    "\n",
    "display(model)\n",
    "PCA_model = standarized_data*model;\n",
    "display(PCA_model)\n",
    "\n",
    "@time customPCA(standarized_data, 0.1);"
   ]
  },
  {
   "cell_type": "code",
   "execution_count": null,
   "id": "d2557bcb",
   "metadata": {},
   "outputs": [],
   "source": []
  }
 ],
 "metadata": {
  "kernelspec": {
   "display_name": "Julia 1.6.0",
   "language": "julia",
   "name": "julia-1.6"
  },
  "language_info": {
   "file_extension": ".jl",
   "mimetype": "application/julia",
   "name": "julia",
   "version": "1.6.0"
  }
 },
 "nbformat": 4,
 "nbformat_minor": 5
}
